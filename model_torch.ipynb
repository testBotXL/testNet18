{
 "cells": [
  {
   "cell_type": "code",
   "execution_count": 1,
   "id": "ea2e350a",
   "metadata": {},
   "outputs": [],
   "source": [
    "import torch\n",
    "import torch.nn as nn\n",
    "import torch.optim as optim\n",
    "from torchvision import datasets, transforms, models\n",
    "from PIL import Image, ImageFile\n",
    "import torchvision.models as models"
   ]
  },
  {
   "cell_type": "code",
   "execution_count": 2,
   "id": "a9a37db4",
   "metadata": {},
   "outputs": [],
   "source": [
    "data_transforms = {\n",
    "    'train': transforms.Compose([\n",
    "        transforms.RandomResizedCrop(224),\n",
    "        transforms.RandomHorizontalFlip(),\n",
    "        transforms.ToTensor(),\n",
    "        transforms.Normalize(mean=[0.485, 0.456, 0.406], std=[0.229, 0.224, 0.225])\n",
    "    ]),\n",
    "    'test': transforms.Compose([\n",
    "        transforms.Resize(256),\n",
    "        transforms.CenterCrop(224),\n",
    "        transforms.ToTensor(),\n",
    "        transforms.Normalize(mean=[0.485, 0.456, 0.406], std=[0.229, 0.224, 0.225])\n",
    "    ]),\n",
    "}"
   ]
  },
  {
   "cell_type": "code",
   "execution_count": 3,
   "id": "599034e3",
   "metadata": {},
   "outputs": [],
   "source": [
    "data_dir = 'E:\\\\Projectf'\n",
    "batch_size = 2  # Adjust this based on your hardware\n",
    "train_dataset = datasets.ImageFolder(root=data_dir + '/train', transform=data_transforms['train'])\n",
    "test_dataset = datasets.ImageFolder(root=data_dir + '/test', transform=data_transforms['test'])\n",
    "\n",
    "train_loader = torch.utils.data.DataLoader(train_dataset, batch_size=batch_size, shuffle=True)\n",
    "test_loader = torch.utils.data.DataLoader(test_dataset, batch_size=batch_size)"
   ]
  },
  {
   "cell_type": "code",
   "execution_count": 4,
   "id": "8ef4e128",
   "metadata": {},
   "outputs": [],
   "source": [
    "class_names = train_dataset.classes"
   ]
  },
  {
   "cell_type": "code",
   "execution_count": 5,
   "id": "4c33f7ca",
   "metadata": {},
   "outputs": [
    {
     "name": "stderr",
     "output_type": "stream",
     "text": [
      "C:\\Users\\USERROR\\AppData\\Roaming\\Python\\Python311\\site-packages\\torchvision\\models\\_utils.py:208: UserWarning: The parameter 'pretrained' is deprecated since 0.13 and may be removed in the future, please use 'weights' instead.\n",
      "  warnings.warn(\n",
      "C:\\Users\\USERROR\\AppData\\Roaming\\Python\\Python311\\site-packages\\torchvision\\models\\_utils.py:223: UserWarning: Arguments other than a weight enum or `None` for 'weights' are deprecated since 0.13 and may be removed in the future. The current behavior is equivalent to passing `weights=ResNet18_Weights.IMAGENET1K_V1`. You can also use `weights=ResNet18_Weights.DEFAULT` to get the most up-to-date weights.\n",
      "  warnings.warn(msg)\n"
     ]
    }
   ],
   "source": [
    "model = models.resnet18(pretrained=True)\n",
    "\n",
    "# Modify the classifier for your specific task\n",
    "num_classes = len(class_names)\n",
    "# Define the classifier as a Sequential block\n",
    "model.fc = nn.Sequential(\n",
    "    nn.Linear(model.fc.in_features, 512),  # Add an additional fully connected layer\n",
    "    nn.ReLU(),                             # Add a ReLU activation\n",
    "    nn.Dropout(0.5),                       # Add dropout for regularization\n",
    "    nn.Linear(512, num_classes)            # Final fully connected layer for classification\n",
    ")"
   ]
  },
  {
   "cell_type": "code",
   "execution_count": 6,
   "id": "dc17c700",
   "metadata": {},
   "outputs": [],
   "source": [
    "criterion = nn.CrossEntropyLoss()\n",
    "optimizer = optim.SGD(model.parameters(), lr=0.001, momentum=0.9)"
   ]
  },
  {
   "cell_type": "code",
   "execution_count": 7,
   "id": "2dadc64e",
   "metadata": {},
   "outputs": [
    {
     "name": "stdout",
     "output_type": "stream",
     "text": [
      "Epoch 1/10 | Train Loss: 1.5573 | Train Accuracy: 0.2500 | Test Accuracy: 0.2857\n",
      "Epoch 2/10 | Train Loss: 1.4317 | Train Accuracy: 0.3088 | Test Accuracy: 0.3810\n",
      "Epoch 3/10 | Train Loss: 1.2963 | Train Accuracy: 0.3824 | Test Accuracy: 0.7143\n",
      "Epoch 4/10 | Train Loss: 1.2945 | Train Accuracy: 0.3824 | Test Accuracy: 0.5476\n",
      "Epoch 5/10 | Train Loss: 1.2531 | Train Accuracy: 0.4265 | Test Accuracy: 0.7143\n",
      "Epoch 6/10 | Train Loss: 1.1046 | Train Accuracy: 0.5882 | Test Accuracy: 0.6190\n",
      "Epoch 7/10 | Train Loss: 0.9740 | Train Accuracy: 0.6029 | Test Accuracy: 0.6429\n",
      "Epoch 8/10 | Train Loss: 0.9643 | Train Accuracy: 0.6324 | Test Accuracy: 0.7857\n",
      "Epoch 9/10 | Train Loss: 1.0181 | Train Accuracy: 0.5882 | Test Accuracy: 0.8571\n",
      "Epoch 10/10 | Train Loss: 0.8493 | Train Accuracy: 0.6471 | Test Accuracy: 0.8095\n",
      "Training complete. Best test accuracy: tensor(0.8571, dtype=torch.float64)\n"
     ]
    }
   ],
   "source": [
    "num_epochs = 10  # Adjust the number of epochs as needed\n",
    "best_accuracy = 0.0\n",
    "\n",
    "for epoch in range(num_epochs):\n",
    "    model.train()\n",
    "    train_loss = 0.0\n",
    "    correct = 0\n",
    "    \n",
    "    for inputs, labels in train_loader:\n",
    "        optimizer.zero_grad()\n",
    "        outputs = model(inputs)\n",
    "        loss = criterion(outputs, labels)\n",
    "        loss.backward()\n",
    "        optimizer.step()\n",
    "        \n",
    "        train_loss += loss.item() * inputs.size(0)\n",
    "        _, preds = torch.max(outputs, 1)\n",
    "        correct += torch.sum(preds == labels.data)\n",
    "    \n",
    "    train_loss = train_loss / len(train_loader.dataset)\n",
    "    train_accuracy = correct.double() / len(train_loader.dataset)\n",
    "    \n",
    "    # Validation (test) phase\n",
    "    model.eval()\n",
    "    test_correct = 0\n",
    "    \n",
    "    with torch.no_grad():\n",
    "        for inputs, labels in test_loader:\n",
    "            outputs = model(inputs)\n",
    "            _, preds = torch.max(outputs, 1)\n",
    "            test_correct += torch.sum(preds == labels.data)\n",
    "    \n",
    "    test_accuracy = test_correct.double() / len(test_loader.dataset)\n",
    "    \n",
    "    print(f'Epoch {epoch+1}/{num_epochs} | Train Loss: {train_loss:.4f} | Train Accuracy: {train_accuracy:.4f} | Test Accuracy: {test_accuracy:.4f}')\n",
    "    \n",
    "    # Save the model if it has the best test accuracy so far\n",
    "    if test_accuracy > best_accuracy:\n",
    "        torch.save(model.state_dict(), 'best_checkpoint.pth')\n",
    "        best_accuracy = test_accuracy\n",
    "\n",
    "print('Training complete. Best test accuracy:', best_accuracy)"
   ]
  },
  {
   "cell_type": "code",
   "execution_count": null,
   "id": "797e012d",
   "metadata": {},
   "outputs": [],
   "source": []
  }
 ],
 "metadata": {
  "kernelspec": {
   "display_name": "Python 3 (ipykernel)",
   "language": "python",
   "name": "python3"
  },
  "language_info": {
   "codemirror_mode": {
    "name": "ipython",
    "version": 3
   },
   "file_extension": ".py",
   "mimetype": "text/x-python",
   "name": "python",
   "nbconvert_exporter": "python",
   "pygments_lexer": "ipython3",
   "version": "3.11.3"
  }
 },
 "nbformat": 4,
 "nbformat_minor": 5
}
